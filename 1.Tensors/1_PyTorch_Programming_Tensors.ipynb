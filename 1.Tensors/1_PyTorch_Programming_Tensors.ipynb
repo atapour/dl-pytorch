{
  "cells": [
    {
      "cell_type": "markdown",
      "metadata": {
        "id": "2DrpK6lIWrhi"
      },
      "source": [
        "# PyTorch Programming - Demonstrating Tensors\n",
        "---\n",
        "\n",
        "## Author : Amir Atapour-Abarghouei, amir.atapour-abarghouei@durham.ac.uk\n",
        "\n",
        "This notebook will provide a few examples that show the capabilities of tensors in PyTorch Programming."
      ]
    },
    {
      "cell_type": "markdown",
      "metadata": {
        "id": "-exrFDujXlUG"
      },
      "source": [
        "Let's start by importing what we need:"
      ]
    },
    {
      "cell_type": "code",
      "execution_count": null,
      "metadata": {
        "id": "f7Xgr3ZNXmQx"
      },
      "outputs": [],
      "source": [
        "import torch"
      ]
    },
    {
      "cell_type": "markdown",
      "metadata": {
        "id": "9KO552S5XtCH"
      },
      "source": [
        "One of the most interesting things about PyTorch is that tensors are designed to behave similarly to NumPy arrays. Let's start by creating a simple rank 1 tensor:"
      ]
    },
    {
      "cell_type": "code",
      "execution_count": null,
      "metadata": {
        "colab": {
          "base_uri": "https://localhost:8080/"
        },
        "id": "-bGhK9wmXsA_",
        "outputId": "fde24e23-008d-4464-f0b4-a744fa0bc530"
      },
      "outputs": [],
      "source": [
        "x = torch.zeros(10)\n",
        "print('done!')"
      ]
    },
    {
      "cell_type": "markdown",
      "metadata": {
        "id": "F1Q_hAATZQWb"
      },
      "source": [
        "and then we can inspect the tensor we have created:"
      ]
    },
    {
      "cell_type": "code",
      "execution_count": null,
      "metadata": {
        "colab": {
          "base_uri": "https://localhost:8080/"
        },
        "id": "wbTxY01eY0Aq",
        "outputId": "6aa96b19-347e-448d-f74c-5862d3071d30"
      },
      "outputs": [],
      "source": [
        "print(x)\n",
        "print(x.size())"
      ]
    },
    {
      "cell_type": "markdown",
      "metadata": {
        "id": "Z5UnQLwJZW6O"
      },
      "source": [
        "PyTorch tensors support many of the operations you would expect from a NumPy array:"
      ]
    },
    {
      "cell_type": "code",
      "execution_count": null,
      "metadata": {
        "colab": {
          "base_uri": "https://localhost:8080/"
        },
        "id": "tVqAtMBuw8LW",
        "outputId": "930137b7-d152-4be9-f5ce-bb3b78cff52b"
      },
      "outputs": [],
      "source": [
        "print(x+2)"
      ]
    },
    {
      "cell_type": "code",
      "execution_count": null,
      "metadata": {
        "colab": {
          "base_uri": "https://localhost:8080/"
        },
        "id": "j87_wKwpxC_0",
        "outputId": "edd94671-eb8d-4989-d018-adf45dd93960"
      },
      "outputs": [],
      "source": [
        "print(x+3 * torch.eye(10))"
      ]
    },
    {
      "cell_type": "markdown",
      "metadata": {
        "id": "vt8tSeQcy_jZ"
      },
      "source": [
        "You see that we can achieve interesting results using broadcasting. Let's create a rank 2 tensor (matrix) sampled from a Normal distribution:"
      ]
    },
    {
      "cell_type": "code",
      "execution_count": null,
      "metadata": {
        "colab": {
          "base_uri": "https://localhost:8080/"
        },
        "id": "pou-TRizzZXP",
        "outputId": "85dbee34-734c-4d66-88b2-34220389e7f2"
      },
      "outputs": [],
      "source": [
        "x = torch.randn(10,5)\n",
        "# torch.randn returns a tensor drawn from standard normal (mean of 0, variance of 1 - Gaussian)\n",
        "print(x)\n",
        "print(x.shape)"
      ]
    },
    {
      "cell_type": "markdown",
      "metadata": {
        "id": "Wpff5vIw1vPb"
      },
      "source": [
        "We can also look at a matrix drawn from the uniform distribution:"
      ]
    },
    {
      "cell_type": "code",
      "execution_count": null,
      "metadata": {
        "colab": {
          "base_uri": "https://localhost:8080/"
        },
        "id": "pJSTSWit2D7I",
        "outputId": "b609e9de-25d3-49e9-f1a6-025fbcd3bfc7"
      },
      "outputs": [],
      "source": [
        "x = torch.rand(10,5)\n",
        "# torch.randn returns a tensor drawn the uniform distribution in the interval [0,1)\n",
        "print(x)\n",
        "print(x.shape)"
      ]
    },
    {
      "cell_type": "markdown",
      "metadata": {
        "id": "RzCWZ8Lf24i0"
      },
      "source": [
        "We can add or remove singleton dimensions to tensors using `unsqueeze` and `squeeze`."
      ]
    },
    {
      "cell_type": "markdown",
      "metadata": {
        "id": "XrZ3qaos4str"
      },
      "source": [
        "Let's start by adding dimensions to the tensor we created earlier:"
      ]
    },
    {
      "cell_type": "code",
      "execution_count": null,
      "metadata": {
        "colab": {
          "base_uri": "https://localhost:8080/"
        },
        "id": "tpxus8583aX6",
        "outputId": "46e6e4b9-ee76-435d-849c-a14e36e200f4"
      },
      "outputs": [],
      "source": [
        "print(x.unsqueeze(0).shape)\n",
        "print(x.unsqueeze(1).shape)\n",
        "print(x.unsqueeze(2).shape)"
      ]
    },
    {
      "cell_type": "markdown",
      "metadata": {
        "id": "uyiYpF-44lw4"
      },
      "source": [
        "Note that these operations are not in-place so we haven't actually modified the `x` tensor:"
      ]
    },
    {
      "cell_type": "code",
      "execution_count": null,
      "metadata": {
        "colab": {
          "base_uri": "https://localhost:8080/"
        },
        "id": "lKGRvBn85m0K",
        "outputId": "7de5a03d-9eaf-498b-bb3b-5b83f6637587"
      },
      "outputs": [],
      "source": [
        "print(x.shape)"
      ]
    },
    {
      "cell_type": "markdown",
      "metadata": {
        "id": "11Ej2Il75rFk"
      },
      "source": [
        "However, PyTorch does actually support in-place operations. For many operations, by adding underscore, we can get the in-place version of the command - for instance:"
      ]
    },
    {
      "cell_type": "code",
      "execution_count": null,
      "metadata": {
        "colab": {
          "base_uri": "https://localhost:8080/"
        },
        "id": "mJqiocp56GGy",
        "outputId": "45098a37-02ef-410f-bdf0-b7476f621c17"
      },
      "outputs": [],
      "source": [
        "x.unsqueeze_(1)\n",
        "print(x.shape)"
      ]
    },
    {
      "cell_type": "markdown",
      "metadata": {
        "id": "4S8bzMK77Q21"
      },
      "source": [
        "This, of course, could have been done through assignment as well:"
      ]
    },
    {
      "cell_type": "code",
      "execution_count": null,
      "metadata": {
        "colab": {
          "base_uri": "https://localhost:8080/"
        },
        "id": "qT7DKnAs7axO",
        "outputId": "a0ada013-a560-40c9-df96-3b7d6f3f4d6a"
      },
      "outputs": [],
      "source": [
        "x = x.unsqueeze(3)\n",
        "print(x.shape)"
      ]
    },
    {
      "cell_type": "markdown",
      "metadata": {
        "id": "pOKfg-9VA5J4"
      },
      "source": [
        "Note that we can remove dimensions using the `squeeze` operator:"
      ]
    },
    {
      "cell_type": "code",
      "execution_count": null,
      "metadata": {
        "colab": {
          "base_uri": "https://localhost:8080/"
        },
        "id": "vHarcDHiBEw1",
        "outputId": "cc41b250-ef65-4ac6-ca3d-37ad424bc863"
      },
      "outputs": [],
      "source": [
        "print(x.squeeze(3).shape)"
      ]
    },
    {
      "cell_type": "markdown",
      "metadata": {
        "id": "qt6qM7KG9IHk"
      },
      "source": [
        "Now that we have added singleton dimensions to the tensor, we can use `repeat` to repeat along the dimensions we have added:"
      ]
    },
    {
      "cell_type": "code",
      "execution_count": null,
      "metadata": {
        "colab": {
          "base_uri": "https://localhost:8080/"
        },
        "id": "5b_6cyPX_mLx",
        "outputId": "1b03c55d-2ab7-4f5e-d226-32953f0006ac"
      },
      "outputs": [],
      "source": [
        "x = x.repeat(1, 3, 1, 6)\n",
        "print(x.shape)"
      ]
    },
    {
      "cell_type": "markdown",
      "metadata": {
        "id": "avSZOMcwDHBE"
      },
      "source": [
        "PyTorch also supports indexing the same way NumPy does, which is very useful.\n",
        "\n",
        "For instance, let's look at the size of the output when we index into the zeroth dimension:"
      ]
    },
    {
      "cell_type": "code",
      "execution_count": null,
      "metadata": {
        "colab": {
          "base_uri": "https://localhost:8080/"
        },
        "id": "ac6uBi_CDmux",
        "outputId": "16927e05-81af-4bd8-f85e-1eace163d535"
      },
      "outputs": [],
      "source": [
        "print(x[0].shape)"
      ]
    },
    {
      "cell_type": "markdown",
      "metadata": {
        "id": "M9cR6mthESaV"
      },
      "source": [
        "We can use the colon operator, `:`, to select data along specific spatial dimensions:"
      ]
    },
    {
      "cell_type": "code",
      "execution_count": null,
      "metadata": {
        "colab": {
          "base_uri": "https://localhost:8080/"
        },
        "id": "SJtgqfxKFMGN",
        "outputId": "75164d59-c925-44b8-f0be-7f2da401f18e"
      },
      "outputs": [],
      "source": [
        "print(x[:,0].shape)"
      ]
    },
    {
      "cell_type": "markdown",
      "metadata": {
        "id": "n-R8XICKJdF3"
      },
      "source": [
        "We can also select elements up to a point using the colon operator:"
      ]
    },
    {
      "cell_type": "code",
      "execution_count": null,
      "metadata": {
        "colab": {
          "base_uri": "https://localhost:8080/"
        },
        "id": "iGq_-o_1JjYt",
        "outputId": "6f3fb3bc-00d8-47b3-efa8-dbb4a0b1d9ee"
      },
      "outputs": [],
      "source": [
        "print(x[:3].shape)"
      ]
    },
    {
      "cell_type": "markdown",
      "metadata": {
        "id": "un8xe3WeKDXC"
      },
      "source": [
        "or we can do it the other way around where we pick everything after a given index:"
      ]
    },
    {
      "cell_type": "code",
      "execution_count": null,
      "metadata": {
        "colab": {
          "base_uri": "https://localhost:8080/"
        },
        "id": "KXLYsPxnKKnI",
        "outputId": "73f5d53a-3421-4031-a874-06ccc0fc4448"
      },
      "outputs": [],
      "source": [
        "print(x[3:].shape)"
      ]
    },
    {
      "cell_type": "markdown",
      "metadata": {
        "id": "AV2bcTLtKZBe"
      },
      "source": [
        "We can always \"`view`\" the elements of our tensor in different ways. Let's look at the size of our tensor again and see how many elements it has got:"
      ]
    },
    {
      "cell_type": "code",
      "execution_count": null,
      "metadata": {
        "colab": {
          "base_uri": "https://localhost:8080/"
        },
        "id": "0SqptXmyKnfk",
        "outputId": "3aa2ce7e-659d-44e6-be90-ff221bf28d3d"
      },
      "outputs": [],
      "source": [
        "print(f'shape of the tensor: {x.shape}')\n",
        "num_elements = torch.numel(x)\n",
        "print(f'number of elements in the tensor: {num_elements}')"
      ]
    },
    {
      "cell_type": "markdown",
      "metadata": {
        "id": "UnWOuzN6M7I8"
      },
      "source": [
        "Now we can try to change our view of the tensor:"
      ]
    },
    {
      "cell_type": "code",
      "execution_count": null,
      "metadata": {
        "colab": {
          "base_uri": "https://localhost:8080/"
        },
        "id": "ZT6-s8WENKiY",
        "outputId": "44eb45ea-ec4f-4c2b-b532-074e82505aba"
      },
      "outputs": [],
      "source": [
        "x.view(num_elements).shape"
      ]
    },
    {
      "cell_type": "markdown",
      "metadata": {
        "id": "F2HQNo-9POVN"
      },
      "source": [
        "We can also do this in a different way:"
      ]
    },
    {
      "cell_type": "code",
      "execution_count": null,
      "metadata": {
        "colab": {
          "base_uri": "https://localhost:8080/"
        },
        "id": "uT_Ps8oxPSG2",
        "outputId": "c62a92ed-b412-41e6-9766-b38bc82afd31"
      },
      "outputs": [],
      "source": [
        "x.view(-1).size()"
      ]
    },
    {
      "cell_type": "markdown",
      "metadata": {
        "id": "BL5HvswbOHod"
      },
      "source": [
        "We can actually view the tensor in a number of ways, as long as the number of elements remains the same:"
      ]
    },
    {
      "cell_type": "code",
      "execution_count": null,
      "metadata": {
        "colab": {
          "base_uri": "https://localhost:8080/"
        },
        "id": "-p8cPQeIOMYp",
        "outputId": "9f2e506c-7ec0-41e9-9543-a457de050735"
      },
      "outputs": [],
      "source": [
        "x.view([10,90]).shape\n"
      ]
    },
    {
      "cell_type": "code",
      "execution_count": null,
      "metadata": {
        "colab": {
          "base_uri": "https://localhost:8080/"
        },
        "id": "eOLzENqjPJ3h",
        "outputId": "4fe04476-267e-4193-f1e0-0d7ec64f6f57"
      },
      "outputs": [],
      "source": [
        "print(x.view(x.size(2), -1).shape)"
      ]
    },
    {
      "cell_type": "markdown",
      "metadata": {
        "id": "uQUEA0dVTWjm"
      },
      "source": [
        "Let's take a look at tensor types in PyTorch.\n",
        "\n",
        "By default, tensors are of type float and on the CPU"
      ]
    },
    {
      "cell_type": "code",
      "execution_count": null,
      "metadata": {
        "colab": {
          "base_uri": "https://localhost:8080/"
        },
        "id": "l7fat9X4T4C0",
        "outputId": "e362c270-05c9-4932-eb03-b9e24ca8c002"
      },
      "outputs": [],
      "source": [
        "x.dtype"
      ]
    },
    {
      "cell_type": "markdown",
      "metadata": {
        "id": "CjeHLR9yURJ2"
      },
      "source": [
        "We can easily cast tensors to other types - for instance 64-bit integer, `long`: "
      ]
    },
    {
      "cell_type": "code",
      "execution_count": null,
      "metadata": {
        "colab": {
          "base_uri": "https://localhost:8080/"
        },
        "id": "ECN7byntVaA3",
        "outputId": "45a80c39-6739-49f5-ba51-75d08e0636e2"
      },
      "outputs": [],
      "source": [
        "x = (x*10).long()\n",
        "# let us look at a piece of this as it might be too big to view the whole thing:\n",
        "print(x[0]) "
      ]
    },
    {
      "cell_type": "markdown",
      "metadata": {
        "id": "zWnyblUuWLah"
      },
      "source": [
        "Let's confirm what \"device\" the tensor is on:"
      ]
    },
    {
      "cell_type": "code",
      "execution_count": null,
      "metadata": {
        "colab": {
          "base_uri": "https://localhost:8080/"
        },
        "id": "pTvU4M_nWQn3",
        "outputId": "734188cb-5f9c-45ac-ac39-df2ca6840c1e"
      },
      "outputs": [],
      "source": [
        "x.device"
      ]
    },
    {
      "cell_type": "markdown",
      "metadata": {
        "id": "HX55dr9PWZLx"
      },
      "source": [
        "The interesting thing is that can transfer the tensor and any subsequent operations to the GPU very easily.\n",
        "\n",
        "Let's recreate our tensor first:\n",
        "\n"
      ]
    },
    {
      "cell_type": "code",
      "execution_count": null,
      "metadata": {
        "colab": {
          "base_uri": "https://localhost:8080/"
        },
        "id": "NwL5WrGoZewU",
        "outputId": "c9a60160-27f4-4290-f172-6628cb35153d"
      },
      "outputs": [],
      "source": [
        "x = torch.zeros(10)\n",
        "print('done!')"
      ]
    },
    {
      "cell_type": "code",
      "execution_count": null,
      "metadata": {
        "id": "1xyAXKa4ZMG3"
      },
      "outputs": [],
      "source": [
        "x = x.cuda()"
      ]
    },
    {
      "cell_type": "code",
      "execution_count": null,
      "metadata": {
        "colab": {
          "base_uri": "https://localhost:8080/"
        },
        "id": "Xr1zXswYZtho",
        "outputId": "8f35f96b-528b-4547-dea8-25a74f8e57a4"
      },
      "outputs": [],
      "source": [
        "(x+2).device"
      ]
    },
    {
      "cell_type": "markdown",
      "metadata": {
        "id": "8mLXsAnXaJEI"
      },
      "source": [
        "GPU operations are of course much faster and are basically the engine that run deep learning.\n",
        "\n",
        "At certain points, you might need to use CPU again, which can be done very easily:"
      ]
    },
    {
      "cell_type": "code",
      "execution_count": null,
      "metadata": {
        "colab": {
          "base_uri": "https://localhost:8080/"
        },
        "id": "uZfiUmMEaUqV",
        "outputId": "cca76390-7da7-4c62-9e43-769540faf32b"
      },
      "outputs": [],
      "source": [
        "x.cpu().device"
      ]
    },
    {
      "cell_type": "markdown",
      "metadata": {
        "id": "yD9k5klgak7v"
      },
      "source": [
        "As you see, PyTorch offers the versatility of numpy arrays but the ability to use the GPU easily."
      ]
    },
    {
      "cell_type": "markdown",
      "metadata": {},
      "source": [
        "------------\n",
        "Copyright (c) 2023 Amir Atapour-Abarghouei, UK.\n",
        "\n",
        "based on https://github.com/cwkx/ml-materials\n",
        "\n",
        "License : LGPL - http://www.gnu.org/licenses/lgpl.html"
      ]
    }
  ],
  "metadata": {
    "accelerator": "GPU",
    "colab": {
      "collapsed_sections": [],
      "name": "PyTorch_Programming_Tensors.ipynb",
      "provenance": []
    },
    "gpuClass": "standard",
    "kernelspec": {
      "display_name": "Python 3",
      "name": "python3"
    },
    "language_info": {
      "name": "python",
      "version": "3.9.13"
    }
  },
  "nbformat": 4,
  "nbformat_minor": 0
}
